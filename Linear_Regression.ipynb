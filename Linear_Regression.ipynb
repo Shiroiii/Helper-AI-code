{
  "nbformat": 4,
  "nbformat_minor": 0,
  "metadata": {
    "colab": {
      "provenance": []
    },
    "kernelspec": {
      "name": "python3",
      "display_name": "Python 3"
    },
    "language_info": {
      "name": "python"
    },
    "gpuClass": "standard",
    "accelerator": "GPU",
    "widgets": {
      "application/vnd.jupyter.widget-state+json": {
        "efdd8f21520c48d198932a5c1d00692a": {
          "model_module": "@jupyter-widgets/controls",
          "model_name": "HBoxModel",
          "model_module_version": "1.5.0",
          "state": {
            "_dom_classes": [],
            "_model_module": "@jupyter-widgets/controls",
            "_model_module_version": "1.5.0",
            "_model_name": "HBoxModel",
            "_view_count": null,
            "_view_module": "@jupyter-widgets/controls",
            "_view_module_version": "1.5.0",
            "_view_name": "HBoxView",
            "box_style": "",
            "children": [
              "IPY_MODEL_e7ba07b4d5c5402f8d10341ec53d8f6d",
              "IPY_MODEL_cc34f681a9ad4dd3afa25bee816bf9b4",
              "IPY_MODEL_46cd2dc91c2f447999ce2463ac185fe4"
            ],
            "layout": "IPY_MODEL_20cdcd0c0a884fb1914a88d7e8bdca28"
          }
        },
        "e7ba07b4d5c5402f8d10341ec53d8f6d": {
          "model_module": "@jupyter-widgets/controls",
          "model_name": "HTMLModel",
          "model_module_version": "1.5.0",
          "state": {
            "_dom_classes": [],
            "_model_module": "@jupyter-widgets/controls",
            "_model_module_version": "1.5.0",
            "_model_name": "HTMLModel",
            "_view_count": null,
            "_view_module": "@jupyter-widgets/controls",
            "_view_module_version": "1.5.0",
            "_view_name": "HTMLView",
            "description": "",
            "description_tooltip": null,
            "layout": "IPY_MODEL_8dacc651292640218547012393f34f7a",
            "placeholder": "​",
            "style": "IPY_MODEL_aafa6f5abe094c429524018d27b8108b",
            "value": "100%"
          }
        },
        "cc34f681a9ad4dd3afa25bee816bf9b4": {
          "model_module": "@jupyter-widgets/controls",
          "model_name": "FloatProgressModel",
          "model_module_version": "1.5.0",
          "state": {
            "_dom_classes": [],
            "_model_module": "@jupyter-widgets/controls",
            "_model_module_version": "1.5.0",
            "_model_name": "FloatProgressModel",
            "_view_count": null,
            "_view_module": "@jupyter-widgets/controls",
            "_view_module_version": "1.5.0",
            "_view_name": "ProgressView",
            "bar_style": "success",
            "description": "",
            "description_tooltip": null,
            "layout": "IPY_MODEL_23778ce124ff461e9f59d0c1a8fe1a52",
            "max": 5,
            "min": 0,
            "orientation": "horizontal",
            "style": "IPY_MODEL_d0897b661ae14805ba2a0d94f15de2cd",
            "value": 5
          }
        },
        "46cd2dc91c2f447999ce2463ac185fe4": {
          "model_module": "@jupyter-widgets/controls",
          "model_name": "HTMLModel",
          "model_module_version": "1.5.0",
          "state": {
            "_dom_classes": [],
            "_model_module": "@jupyter-widgets/controls",
            "_model_module_version": "1.5.0",
            "_model_name": "HTMLModel",
            "_view_count": null,
            "_view_module": "@jupyter-widgets/controls",
            "_view_module_version": "1.5.0",
            "_view_name": "HTMLView",
            "description": "",
            "description_tooltip": null,
            "layout": "IPY_MODEL_a0ec9314fe3845d7a984157fc85f56c1",
            "placeholder": "​",
            "style": "IPY_MODEL_173df014f70d404a81a37660f56631ca",
            "value": " 5/5 [46:53&lt;00:00, 283.46s/it]"
          }
        },
        "20cdcd0c0a884fb1914a88d7e8bdca28": {
          "model_module": "@jupyter-widgets/base",
          "model_name": "LayoutModel",
          "model_module_version": "1.2.0",
          "state": {
            "_model_module": "@jupyter-widgets/base",
            "_model_module_version": "1.2.0",
            "_model_name": "LayoutModel",
            "_view_count": null,
            "_view_module": "@jupyter-widgets/base",
            "_view_module_version": "1.2.0",
            "_view_name": "LayoutView",
            "align_content": null,
            "align_items": null,
            "align_self": null,
            "border": null,
            "bottom": null,
            "display": null,
            "flex": null,
            "flex_flow": null,
            "grid_area": null,
            "grid_auto_columns": null,
            "grid_auto_flow": null,
            "grid_auto_rows": null,
            "grid_column": null,
            "grid_gap": null,
            "grid_row": null,
            "grid_template_areas": null,
            "grid_template_columns": null,
            "grid_template_rows": null,
            "height": null,
            "justify_content": null,
            "justify_items": null,
            "left": null,
            "margin": null,
            "max_height": null,
            "max_width": null,
            "min_height": null,
            "min_width": null,
            "object_fit": null,
            "object_position": null,
            "order": null,
            "overflow": null,
            "overflow_x": null,
            "overflow_y": null,
            "padding": null,
            "right": null,
            "top": null,
            "visibility": null,
            "width": null
          }
        },
        "8dacc651292640218547012393f34f7a": {
          "model_module": "@jupyter-widgets/base",
          "model_name": "LayoutModel",
          "model_module_version": "1.2.0",
          "state": {
            "_model_module": "@jupyter-widgets/base",
            "_model_module_version": "1.2.0",
            "_model_name": "LayoutModel",
            "_view_count": null,
            "_view_module": "@jupyter-widgets/base",
            "_view_module_version": "1.2.0",
            "_view_name": "LayoutView",
            "align_content": null,
            "align_items": null,
            "align_self": null,
            "border": null,
            "bottom": null,
            "display": null,
            "flex": null,
            "flex_flow": null,
            "grid_area": null,
            "grid_auto_columns": null,
            "grid_auto_flow": null,
            "grid_auto_rows": null,
            "grid_column": null,
            "grid_gap": null,
            "grid_row": null,
            "grid_template_areas": null,
            "grid_template_columns": null,
            "grid_template_rows": null,
            "height": null,
            "justify_content": null,
            "justify_items": null,
            "left": null,
            "margin": null,
            "max_height": null,
            "max_width": null,
            "min_height": null,
            "min_width": null,
            "object_fit": null,
            "object_position": null,
            "order": null,
            "overflow": null,
            "overflow_x": null,
            "overflow_y": null,
            "padding": null,
            "right": null,
            "top": null,
            "visibility": null,
            "width": null
          }
        },
        "aafa6f5abe094c429524018d27b8108b": {
          "model_module": "@jupyter-widgets/controls",
          "model_name": "DescriptionStyleModel",
          "model_module_version": "1.5.0",
          "state": {
            "_model_module": "@jupyter-widgets/controls",
            "_model_module_version": "1.5.0",
            "_model_name": "DescriptionStyleModel",
            "_view_count": null,
            "_view_module": "@jupyter-widgets/base",
            "_view_module_version": "1.2.0",
            "_view_name": "StyleView",
            "description_width": ""
          }
        },
        "23778ce124ff461e9f59d0c1a8fe1a52": {
          "model_module": "@jupyter-widgets/base",
          "model_name": "LayoutModel",
          "model_module_version": "1.2.0",
          "state": {
            "_model_module": "@jupyter-widgets/base",
            "_model_module_version": "1.2.0",
            "_model_name": "LayoutModel",
            "_view_count": null,
            "_view_module": "@jupyter-widgets/base",
            "_view_module_version": "1.2.0",
            "_view_name": "LayoutView",
            "align_content": null,
            "align_items": null,
            "align_self": null,
            "border": null,
            "bottom": null,
            "display": null,
            "flex": null,
            "flex_flow": null,
            "grid_area": null,
            "grid_auto_columns": null,
            "grid_auto_flow": null,
            "grid_auto_rows": null,
            "grid_column": null,
            "grid_gap": null,
            "grid_row": null,
            "grid_template_areas": null,
            "grid_template_columns": null,
            "grid_template_rows": null,
            "height": null,
            "justify_content": null,
            "justify_items": null,
            "left": null,
            "margin": null,
            "max_height": null,
            "max_width": null,
            "min_height": null,
            "min_width": null,
            "object_fit": null,
            "object_position": null,
            "order": null,
            "overflow": null,
            "overflow_x": null,
            "overflow_y": null,
            "padding": null,
            "right": null,
            "top": null,
            "visibility": null,
            "width": null
          }
        },
        "d0897b661ae14805ba2a0d94f15de2cd": {
          "model_module": "@jupyter-widgets/controls",
          "model_name": "ProgressStyleModel",
          "model_module_version": "1.5.0",
          "state": {
            "_model_module": "@jupyter-widgets/controls",
            "_model_module_version": "1.5.0",
            "_model_name": "ProgressStyleModel",
            "_view_count": null,
            "_view_module": "@jupyter-widgets/base",
            "_view_module_version": "1.2.0",
            "_view_name": "StyleView",
            "bar_color": null,
            "description_width": ""
          }
        },
        "a0ec9314fe3845d7a984157fc85f56c1": {
          "model_module": "@jupyter-widgets/base",
          "model_name": "LayoutModel",
          "model_module_version": "1.2.0",
          "state": {
            "_model_module": "@jupyter-widgets/base",
            "_model_module_version": "1.2.0",
            "_model_name": "LayoutModel",
            "_view_count": null,
            "_view_module": "@jupyter-widgets/base",
            "_view_module_version": "1.2.0",
            "_view_name": "LayoutView",
            "align_content": null,
            "align_items": null,
            "align_self": null,
            "border": null,
            "bottom": null,
            "display": null,
            "flex": null,
            "flex_flow": null,
            "grid_area": null,
            "grid_auto_columns": null,
            "grid_auto_flow": null,
            "grid_auto_rows": null,
            "grid_column": null,
            "grid_gap": null,
            "grid_row": null,
            "grid_template_areas": null,
            "grid_template_columns": null,
            "grid_template_rows": null,
            "height": null,
            "justify_content": null,
            "justify_items": null,
            "left": null,
            "margin": null,
            "max_height": null,
            "max_width": null,
            "min_height": null,
            "min_width": null,
            "object_fit": null,
            "object_position": null,
            "order": null,
            "overflow": null,
            "overflow_x": null,
            "overflow_y": null,
            "padding": null,
            "right": null,
            "top": null,
            "visibility": null,
            "width": null
          }
        },
        "173df014f70d404a81a37660f56631ca": {
          "model_module": "@jupyter-widgets/controls",
          "model_name": "DescriptionStyleModel",
          "model_module_version": "1.5.0",
          "state": {
            "_model_module": "@jupyter-widgets/controls",
            "_model_module_version": "1.5.0",
            "_model_name": "DescriptionStyleModel",
            "_view_count": null,
            "_view_module": "@jupyter-widgets/base",
            "_view_module_version": "1.2.0",
            "_view_name": "StyleView",
            "description_width": ""
          }
        }
      }
    }
  },
  "cells": [
    {
      "cell_type": "code",
      "metadata": {
        "id": "_ud7DsTtIyEi",
        "outputId": "54048d44-c416-4b57-a4a6-78c350915191",
        "colab": {
          "base_uri": "https://localhost:8080/"
        }
      },
      "source": [
        "! git clone https://github.com/Shiroiii/Helper_AI_Code"
      ],
      "execution_count": null,
      "outputs": [
        {
          "output_type": "stream",
          "name": "stdout",
          "text": [
            "Cloning into 'Helper_AI_Code'...\n",
            "remote: Enumerating objects: 66, done.\u001b[K\n",
            "remote: Counting objects: 100% (60/60), done.\u001b[K\n",
            "remote: Compressing objects: 100% (37/37), done.\u001b[K\n",
            "remote: Total 66 (delta 29), reused 50 (delta 19), pack-reused 6\u001b[K\n",
            "Unpacking objects: 100% (66/66), done.\n"
          ]
        }
      ]
    },
    {
      "cell_type": "code",
      "source": [
        "import sys\n",
        "sys.path.append(\"/content/Helper_AI_Code/sports_helper\")"
      ],
      "metadata": {
        "id": "MDufb6GEmP9G"
      },
      "execution_count": null,
      "outputs": []
    },
    {
      "cell_type": "code",
      "source": [
        "import torch\n",
        "from torch import nn\n",
        "from torchvision import transforms\n",
        "from PIL import Image\n",
        "import matplotlib.pyplot as plt"
      ],
      "metadata": {
        "id": "1t2fIu91JYM6"
      },
      "execution_count": null,
      "outputs": []
    },
    {
      "cell_type": "code",
      "source": [
        "from engine import train, eval\n",
        "from data_setup import data_setup\n",
        "from model_builder import create_vgg11, create_effb0"
      ],
      "metadata": {
        "id": "nvEr_Qu3maxQ"
      },
      "execution_count": null,
      "outputs": []
    },
    {
      "cell_type": "code",
      "source": [
        "BATCH_SIZE = 128\n",
        "EPOCHS = 5\n",
        "DEVICE = \"cuda\" if torch.cuda.is_available() else \"cpu\"\n",
        "DEVICE"
      ],
      "metadata": {
        "id": "aajI0PMHIiSw",
        "outputId": "1405571a-8482-4e61-83bb-b0f19467f05e",
        "colab": {
          "base_uri": "https://localhost:8080/",
          "height": 35
        }
      },
      "execution_count": null,
      "outputs": [
        {
          "output_type": "execute_result",
          "data": {
            "text/plain": [
              "'cuda'"
            ],
            "application/vnd.google.colaboratory.intrinsic+json": {
              "type": "string"
            }
          },
          "metadata": {},
          "execution_count": 5
        }
      ]
    },
    {
      "cell_type": "code",
      "source": [
        "train_root = \"/content/drive/MyDrive/ML_Data/Sports/train\"\n",
        "val_root = \"/content/drive/MyDrive/ML_Data/Sports/valid\"\n",
        "test_root = \"/content/drive/MyDrive/ML_Data/Sports/test\"\n",
        "pred = \"/content/drive/MyDrive/ML_Data/Sports/'images to predict'\""
      ],
      "metadata": {
        "id": "uig0EvTerR70"
      },
      "execution_count": null,
      "outputs": []
    },
    {
      "cell_type": "code",
      "source": [
        "effb0, eff_transforms = create_effb0(device=DEVICE)"
      ],
      "metadata": {
        "id": "0xjbI13QJdMs"
      },
      "execution_count": null,
      "outputs": []
    },
    {
      "cell_type": "code",
      "source": [
        "train_set, train_loader, class_map = data_setup(dir=train_root, transforms=eff_transforms, batch_size=BATCH_SIZE)\n",
        "val_set, val_loader, _ = data_setup(dir=val_root, transforms=eff_transforms, batch_size=BATCH_SIZE)"
      ],
      "metadata": {
        "id": "BQey_zcLIVmf"
      },
      "execution_count": null,
      "outputs": []
    },
    {
      "cell_type": "code",
      "source": [
        "train(model=effb0, train_dataloader=train_loader, test_dataloader=val_loader, optimizer=torch.optim.Adam(effb0.parameters(), lr=1E-3), loss_fn=nn.CrossEntropyLoss(), device=DEVICE, epochs=EPOCHS)"
      ],
      "metadata": {
        "id": "p8_njFzpJBSB"
      },
      "execution_count": null,
      "outputs": []
    },
    {
      "cell_type": "code",
      "source": [
        "vgg11, vgg_transforms = create_vgg11(device=DEVICE)"
      ],
      "metadata": {
        "id": "jEKKfen6Yet7",
        "outputId": "13d1d143-9233-4627-fa88-8430810d5bc7",
        "colab": {
          "base_uri": "https://localhost:8080/"
        }
      },
      "execution_count": null,
      "outputs": [
        {
          "output_type": "stream",
          "name": "stderr",
          "text": [
            "Downloading: \"https://download.pytorch.org/models/vgg11-8a719046.pth\" to /root/.cache/torch/hub/checkpoints/vgg11-8a719046.pth\n"
          ]
        },
        {
          "output_type": "stream",
          "name": "stdout",
          "text": [
            "[INFO] Created new VGG11 model\n"
          ]
        }
      ]
    },
    {
      "cell_type": "code",
      "source": [
        "v_train_set, v_train_loader, class_map = data_setup(dir=train_root, transforms=vgg_transforms, batch_size=BATCH_SIZE)\n",
        "v_val_set, v_val_loader, _ = data_setup(dir=val_root, transforms=vgg_transforms, batch_size=BATCH_SIZE)"
      ],
      "metadata": {
        "id": "0PQ0DbYgpiJS"
      },
      "execution_count": null,
      "outputs": []
    },
    {
      "cell_type": "code",
      "source": [
        "train(model=vgg11, train_dataloader=v_train_loader, test_dataloader=v_val_loader, optimizer=torch.optim.Adam(vgg11.parameters(), lr=1E-3), loss_fn=nn.CrossEntropyLoss(), device=DEVICE, epochs=EPOCHS)"
      ],
      "metadata": {
        "id": "TrwNV70SpqKX",
        "outputId": "f1234654-f8f6-4291-a86b-3e6f763c96bd",
        "colab": {
          "base_uri": "https://localhost:8080/",
          "height": 500,
          "referenced_widgets": [
            "efdd8f21520c48d198932a5c1d00692a",
            "e7ba07b4d5c5402f8d10341ec53d8f6d",
            "cc34f681a9ad4dd3afa25bee816bf9b4",
            "46cd2dc91c2f447999ce2463ac185fe4",
            "20cdcd0c0a884fb1914a88d7e8bdca28",
            "8dacc651292640218547012393f34f7a",
            "aafa6f5abe094c429524018d27b8108b",
            "23778ce124ff461e9f59d0c1a8fe1a52",
            "d0897b661ae14805ba2a0d94f15de2cd",
            "a0ec9314fe3845d7a984157fc85f56c1",
            "173df014f70d404a81a37660f56631ca"
          ]
        }
      },
      "execution_count": null,
      "outputs": [
        {
          "output_type": "display_data",
          "data": {
            "text/plain": [
              "  0%|          | 0/5 [00:00<?, ?it/s]"
            ],
            "application/vnd.jupyter.widget-view+json": {
              "version_major": 2,
              "version_minor": 0,
              "model_id": "efdd8f21520c48d198932a5c1d00692a"
            }
          },
          "metadata": {}
        },
        {
          "output_type": "stream",
          "name": "stdout",
          "text": [
            "Epoch: 1 | train_loss: 1.5572 | test_loss: 0.4678 | train_acc: 0.6583 | test_acc: 0.8714\n",
            "[INFO] Saving model to: model_params/VGG11.pth.tar\n",
            "Epoch: 2 | train_loss: 0.1025 | test_loss: 0.3655 | train_acc: 0.9719 | test_acc: 0.9056\n",
            "Epoch: 3 | train_loss: 0.0515 | test_loss: 0.3976 | train_acc: 0.9889 | test_acc: 0.9056\n",
            "Epoch: 4 | train_loss: 0.0375 | test_loss: 0.3777 | train_acc: 0.9933 | test_acc: 0.9052\n",
            "Epoch: 5 | train_loss: 0.0344 | test_loss: 0.4797 | train_acc: 0.9942 | test_acc: 0.8815\n"
          ]
        },
        {
          "output_type": "execute_result",
          "data": {
            "text/plain": [
              "{'train_loss': [1.5572186858854562,\n",
              "  0.10249016991877388,\n",
              "  0.051473576843164094,\n",
              "  0.0375042870927985,\n",
              "  0.03444706237924973],\n",
              " 'train_acc': [0.6582526702269692,\n",
              "  0.9718687416555407,\n",
              "  0.9888914385847797,\n",
              "  0.9932827102803738,\n",
              "  0.9942318925233645],\n",
              " 'test_loss': [0.46784166991710663,\n",
              "  0.36550242081284523,\n",
              "  0.3976065665483475,\n",
              "  0.3777422569692135,\n",
              "  0.479728102684021],\n",
              " 'test_acc': [0.8713631465517242,\n",
              "  0.9055765086206897,\n",
              "  0.9055765086206897,\n",
              "  0.9051724137931034,\n",
              "  0.8815328663793103]}"
            ]
          },
          "metadata": {},
          "execution_count": 12
        }
      ]
    },
    {
      "cell_type": "code",
      "source": [
        "v_train_set.classes"
      ],
      "metadata": {
        "id": "cN8Kprr39bic"
      },
      "execution_count": null,
      "outputs": []
    },
    {
      "cell_type": "code",
      "source": [
        "def Predict(model:nn.Module, filepath:str, modelpath:str):\n",
        "  best_model_state = torch.load(f\"./model_params/{modelpath}\")#[\"network_params\"]\n",
        "  model.load_state_dict(best_model_state)\n",
        "  print(\"[INFO] Model Parameters have been loaded successfully\")\n",
        "  img = Image.open(filepath)\n",
        "  transform = transforms.ToTensor()\n",
        "  x = vgg_transforms(img)\n",
        "  # x = transform(img)\n",
        "  # x = vgg_transforms(x)\n",
        "  pred = model(x.unsqueeze(dim=0).to(DEVICE)).to(DEVICE)\n",
        "  lbl_pred_class = torch.argmax(pred, dim=1)\n",
        "  pred_label = v_train_set.classes[lbl_pred_class]\n",
        "  # img.permute(1, 2, 0)\n",
        "  # plt.imshow(x.detach().cpu().permute(1, 2, 0))\n",
        "  plt.imshow(img)\n",
        "  plt.title(f\"{pred_label}\")\n",
        "  "
      ],
      "metadata": {
        "id": "8xmvl0I57dHQ"
      },
      "execution_count": null,
      "outputs": []
    },
    {
      "cell_type": "code",
      "source": [
        "Predict(model=vgg11, filepath=\"/content/tennis1.webp\", modelpath=\"/VGG11.pth.tar\")"
      ],
      "metadata": {
        "id": "gJuA7Tl3_LH9",
        "outputId": "0f68102c-235d-44ac-abaf-45e6d17723c4",
        "colab": {
          "base_uri": "https://localhost:8080/",
          "height": 255
        }
      },
      "execution_count": null,
      "outputs": [
        {
          "output_type": "stream",
          "name": "stdout",
          "text": [
            "[INFO] Model Parameters have been loaded successfully\n"
          ]
        },
        {
          "output_type": "display_data",
          "data": {
            "text/plain": [
              "<Figure size 432x288 with 1 Axes>"
            ],
            "image/png": "[encoded data removed]"
          },
          "metadata": {
            "needs_background": "light"
          }
        }
      ]
    },
    {
      "cell_type": "code",
      "source": [
        "v_test_set, v_test_loader, _ = data_setup(dir=test_root, transforms=vgg_transforms, batch_size=BATCH_SIZE)"
      ],
      "metadata": {
        "id": "jHKBtuwhAtht"
      },
      "execution_count": null,
      "outputs": []
    },
    {
      "cell_type": "code",
      "source": [
        "def eval(model:nn.Module, loss:nn.Module, testDataloader: torch.utils.data.DataLoader, device:torch.device, filepath:str) -> dict:\n",
        "    best_model_state = torch.load(f\"./model_params/{filepath}\")#[\"network_params\"]\n",
        "    model.load_state_dict(best_model_state)\n",
        "    print(\"[INFO] Model Parameters have been loaded successfully\")\n",
        "    result = dict()\n",
        "\n",
        "    model.eval()\n",
        "    with torch.inference_mode():\n",
        "        test_loss, test_acc = 0, 0\n",
        "        for test_images, test_labels in testDataloader:\n",
        "            test_images, test_labels = test_images.to(\n",
        "                device), test_labels.to(device)\n",
        "\n",
        "            test_pred = model(test_images)\n",
        "            tloss = loss(test_pred, test_labels)\n",
        "            test_loss += tloss\n",
        "\n",
        "            lbl_pred_class = torch.argmax(test_pred, dim=1)\n",
        "            test_acc += (lbl_pred_class == test_labels).sum().item() / len(test_pred)\n",
        "\n",
        "        result[\"model\"] = model.name\n",
        "        result[\"loss\"] = round((test_loss / len(testDataloader)).item(), 3)\n",
        "        result[\"accuracy\"] = round((test_acc / len(testDataloader)), 3)\n",
        "\n",
        "    return result\n"
      ],
      "metadata": {
        "id": "bixlk5VbBs2i"
      },
      "execution_count": null,
      "outputs": []
    },
    {
      "cell_type": "code",
      "source": [
        "eval(model=vgg11, loss=nn.CrossEntropyLoss(), testDataloader=v_test_loader, device=DEVICE, filepath=\"/VGG11.pth.tar\")"
      ],
      "metadata": {
        "id": "KVsss68vA2oW",
        "outputId": "95b72b0d-2742-4cab-df5b-27f38b764bc4",
        "colab": {
          "base_uri": "https://localhost:8080/"
        }
      },
      "execution_count": null,
      "outputs": [
        {
          "output_type": "stream",
          "name": "stdout",
          "text": [
            "[INFO] Model Parameters have been loaded successfully\n"
          ]
        },
        {
          "output_type": "execute_result",
          "data": {
            "text/plain": [
              "{'model': 'VGG11', 'loss': 0.432, 'accuracy': 0.889}"
            ]
          },
          "metadata": {},
          "execution_count": 72
        }
      ]
    }
  ]
}